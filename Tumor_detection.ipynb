{
  "nbformat": 4,
  "nbformat_minor": 0,
  "metadata": {
    "colab": {
      "name": "Tumor detection.ipynb",
      "provenance": []
    },
    "kernelspec": {
      "name": "python3",
      "display_name": "Python 3"
    },
    "language_info": {
      "name": "python"
    }
  },
  "cells": [
    {
      "cell_type": "code",
      "execution_count": null,
      "metadata": {
        "id": "a_2L7oXhtSAs"
      },
      "outputs": [],
      "source": [
        ""
      ]
    },
    {
      "cell_type": "code",
      "source": [
        "from google.colab import drive\n",
        "drive.mount('/content/drive')"
      ],
      "metadata": {
        "colab": {
          "base_uri": "https://localhost:8080/"
        },
        "id": "47DNWZJVwu9Y",
        "outputId": "96609ab9-ffb8-4bc1-bcb5-70e163f4d257"
      },
      "execution_count": 1,
      "outputs": [
        {
          "output_type": "stream",
          "name": "stdout",
          "text": [
            "Mounted at /content/drive\n"
          ]
        }
      ]
    },
    {
      "cell_type": "code",
      "source": [
        "import cv2\n",
        "from skimage import io\n",
        "from matplotlib import pyplot as plt\n",
        "import tensorflow as tf "
      ],
      "metadata": {
        "id": "r8uT2qCZwvld"
      },
      "execution_count": 3,
      "outputs": []
    },
    {
      "cell_type": "markdown",
      "source": [
        "## IMAGE RESIZING AND APPLYING CLAHE TECHNIQUE"
      ],
      "metadata": {
        "id": "kxvbWIkH5BW7"
      }
    },
    {
      "cell_type": "code",
      "source": [
        "\n",
        "\n",
        "import cv2\n",
        "import glob\n",
        "\n",
        "path = glob.glob('drive/MyDrive/Brain_tumor_detection/brain/yes/*.jpg')\n",
        "for file in path:\n",
        "  img2 = cv2.imread(file)\n",
        "  img = cv2.resize(img2,(256,256))\n",
        "  lab_img= cv2.cvtColor(img, cv2.COLOR_BGR2LAB)\n",
        "  l, a, b = cv2.split(lab_img)\n",
        "  clahe = cv2.createCLAHE(clipLimit=3.0, tileGridSize=(8,8))\n",
        "  clahe_img = clahe.apply(l)\n",
        "#plt.hist(clahe_img.flat, bins=100, range=(0,255))\n",
        "\n",
        "#Combine the CLAHE enhanced L-channel back with A and B channels\n",
        "  updated_lab_img2 = cv2.merge((clahe_img,a,b))\n",
        "\n",
        "#Convert LAB image back to color (RGB)\n",
        "  CLAHE_img = cv2.cvtColor(updated_lab_img2, cv2.COLOR_LAB2BGR)\n",
        "\n",
        "  cv2.imwrite(file,CLAHE_img)"
      ],
      "metadata": {
        "id": "SftYB3cLyjb6"
      },
      "execution_count": 18,
      "outputs": []
    },
    {
      "cell_type": "code",
      "source": [
        "path = glob.glob('drive/MyDrive/Brain_tumor_detection/brain/no/*.jpg')\n",
        "for file in path:\n",
        "  img2 = cv2.imread(file)\n",
        "  img = cv2.resize(img2,(256,256))\n",
        "  lab_img= cv2.cvtColor(img, cv2.COLOR_BGR2LAB)\n",
        "  l, a, b = cv2.split(lab_img)\n",
        "  clahe = cv2.createCLAHE(clipLimit=3.0, tileGridSize=(8,8))\n",
        "  clahe_img = clahe.apply(l)\n",
        "#plt.hist(clahe_img.flat, bins=100, range=(0,255))\n",
        "\n",
        "#Combine the CLAHE enhanced L-channel back with A and B channels\n",
        "  updated_lab_img2 = cv2.merge((clahe_img,a,b))\n",
        "\n",
        "#Convert LAB image back to color (RGB)\n",
        "  CLAHE_img = cv2.cvtColor(updated_lab_img2, cv2.COLOR_LAB2BGR)\n",
        "\n",
        "  cv2.imwrite(file,CLAHE_img)\n"
      ],
      "metadata": {
        "id": "QouQQ0zJ0Ynn"
      },
      "execution_count": 19,
      "outputs": []
    },
    {
      "cell_type": "code",
      "source": [
        ""
      ],
      "metadata": {
        "id": "GwKCHMs60zZx"
      },
      "execution_count": null,
      "outputs": []
    }
  ]
}